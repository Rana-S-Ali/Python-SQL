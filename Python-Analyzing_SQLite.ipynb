{
  "cells": [
    {
      "cell_type": "markdown",
      "metadata": {
        "id": "9345edcb-0d0c-4184-8eca-3e14a909bb01"
      },
      "source": [
        "<p style=\"text-align:center\">\n",
        "    <a href=\"https://skills.network\" target=\"_blank\">\n",
        "    <img src=\"https://cf-courses-data.s3.us.cloud-object-storage.appdomain.cloud/assets/logos/SN_web_lightmode.png\" width=\"200\" alt=\"Skills Network Logo\">\n",
        "    </a>\n",
        "</p>\n",
        "\n",
        "# Analyzing a real world data-set with SQL and Python\n",
        "\n",
        "Estimated time needed: **15** minutes\n",
        "\n",
        "## Objectives\n",
        "\n",
        "After completing this lab you will be able to:\n",
        "\n",
        "*   Understand a dataset of selected socioeconomic indicators in Chicago\n",
        "*   Learn how to store data in an SQLite database.\n",
        "*   Solve example problems to practice your SQL skills\n"
      ]
    },
    {
      "cell_type": "markdown",
      "metadata": {
        "id": "66bf58d2-205e-4430-b0e9-05321e9dc101"
      },
      "source": [
        "## Selected Socioeconomic Indicators in Chicago\n",
        "\n",
        "The city of Chicago released a dataset of socioeconomic data to the Chicago City Portal.\n",
        "This dataset contains a selection of six socioeconomic indicators of public health significance and a “hardship index,” for each Chicago community area, for the years 2008 – 2012.\n",
        "\n",
        "Scores on the hardship index can range from 1 to 100, with a higher index number representing a greater level of hardship.\n",
        "\n",
        "A detailed description of the dataset can be found on [the city of Chicago's website](https://data.cityofchicago.org/Health-Human-Services/Census-Data-Selected-socioeconomic-indicators-in-C/kn9c-c2s2?utm_medium=Exinfluencer&utm_source=Exinfluencer&utm_content=000026UJ&utm_term=10006555&utm_id=NA-SkillsNetwork-Channel-SkillsNetworkCoursesIBMDeveloperSkillsNetworkDB0201ENSkillsNetwork20127838-2021-01-01), but to summarize, the dataset has the following variables:\n",
        "\n",
        "*   **Community Area Number** (`ca`): Used to uniquely identify each row of the dataset\n",
        "\n",
        "*   **Community Area Name** (`community_area_name`): The name of the region in the city of Chicago\n",
        "\n",
        "*   **Percent of Housing Crowded** (`percent_of_housing_crowded`): Percent of occupied housing units with more than one person per room\n",
        "\n",
        "*   **Percent Households Below Poverty** (`percent_households_below_poverty`): Percent of households living below the federal poverty line\n",
        "\n",
        "*   **Percent Aged 16+ Unemployed** (`percent_aged_16_unemployed`): Percent of persons over the age of 16 years that are unemployed\n",
        "\n",
        "*   **Percent Aged 25+ without High School Diploma** (`percent_aged_25_without_high_school_diploma`): Percent of persons over the age of 25 years without a high school education\n",
        "\n",
        "*   **Percent Aged Under** 18 or Over 64:Percent of population under 18 or over 64 years of age (`percent_aged_under_18_or_over_64`): (ie. dependents)\n",
        "\n",
        "*   **Per Capita Income** (`per_capita_income_`): Community Area per capita income is estimated as the sum of tract-level aggragate incomes divided by the total population\n",
        "\n",
        "*   **Hardship Index** (`hardship_index`): Score that incorporates each of the six selected socioeconomic indicators\n",
        "\n",
        "In this Lab, we'll take a look at the variables in the socioeconomic indicators dataset and do some basic analysis with Python.\n"
      ]
    },
    {
      "cell_type": "markdown",
      "metadata": {
        "id": "50d34a0f-46a2-4681-8ceb-0f1079a51161"
      },
      "source": [
        "### Connect to the database\n",
        "\n",
        "Let us first load the SQL extension and establish a connection with the database\n",
        "\n",
        "##### The syntax for connecting to magic sql using sqllite is\n",
        "\n",
        "  **%sql sqlite://DatabaseName**   \n",
        "  \n",
        "where DatabaseName will be your **.db** file\n"
      ]
    },
    {
      "cell_type": "code",
      "metadata": {
        "id": "dcd43ac3-47dc-495e-8eea-7e35e3003902"
      },
      "outputs": [],
      "source": [
        "%load_ext sql"
      ],
      "execution_count": null
    },
    {
      "cell_type": "code",
      "metadata": {
        "colab": {
          "base_uri": "https://localhost:8080/"
        },
        "id": "b688b8a0-965f-4a7e-a8fb-830dddcc4fb0",
        "outputId": "3bca3ef2-eee2-4163-8e7a-4d1b2ebd6c69"
      },
      "outputs": [
        {
          "output_type": "stream",
          "name": "stdout",
          "text": [
            "\u001b[2K     \u001b[90m━━━━━━━━━━━━━━━━━━━━━━━━━━━━━━━━━━━━━━━━\u001b[0m \u001b[32m5.2/5.2 MB\u001b[0m \u001b[31m20.4 MB/s\u001b[0m eta \u001b[36m0:00:00\u001b[0m\n",
            "\u001b[?25h  Installing build dependencies ... \u001b[?25l\u001b[?25hdone\n",
            "  Getting requirements to build wheel ... \u001b[?25l\u001b[?25hdone\n",
            "  Preparing metadata (pyproject.toml) ... \u001b[?25l\u001b[?25hdone\n",
            "  \u001b[1;31merror\u001b[0m: \u001b[1msubprocess-exited-with-error\u001b[0m\n",
            "  \n",
            "  \u001b[31m×\u001b[0m \u001b[32mBuilding wheel for pandas \u001b[0m\u001b[1;32m(\u001b[0m\u001b[32mpyproject.toml\u001b[0m\u001b[1;32m)\u001b[0m did not run successfully.\n",
            "  \u001b[31m│\u001b[0m exit code: \u001b[1;36m1\u001b[0m\n",
            "  \u001b[31m╰─>\u001b[0m See above for output.\n",
            "  \n",
            "  \u001b[1;35mnote\u001b[0m: This error originates from a subprocess, and is likely not a problem with pip.\n",
            "  Building wheel for pandas (pyproject.toml) ... \u001b[?25l\u001b[?25herror\n",
            "\u001b[31m  ERROR: Failed building wheel for pandas\u001b[0m\u001b[31m\n",
            "\u001b[0m\u001b[31mERROR: Could not build wheels for pandas, which is required to install pyproject.toml-based projects\u001b[0m\u001b[31m\n",
            "\u001b[0m"
          ]
        }
      ],
      "source": [
        "import csv, sqlite3\n",
        "\n",
        "con = sqlite3.connect(\"socioeconomic.db\")\n",
        "cur = con.cursor()\n",
        "!pip install -q pandas==1.1.5"
      ],
      "execution_count": null
    },
    {
      "cell_type": "code",
      "metadata": {
        "id": "54f41131-1505-471c-957a-8aa74ea8323e"
      },
      "outputs": [],
      "source": [
        "%sql sqlite:///socioeconomic.db"
      ],
      "execution_count": null
    },
    {
      "cell_type": "markdown",
      "metadata": {
        "id": "164b197a-4309-4bd3-9486-783ebd2b17aa"
      },
      "source": [
        "### Store the dataset in a Table\n",
        "\n",
        "##### In many cases the dataset to be analyzed is available as a .CSV (comma separated values) file, perhaps on the internet. To analyze the data using SQL, it first needs to be stored in the database.\n",
        "\n",
        "##### We will first read the csv files  from the given url  into pandas dataframes\n",
        "\n",
        "##### Next we will be using the  df.to_sql() function to convert each csv file  to a table in sqlite  with the csv data loaded in it.\n",
        "\n"
      ]
    },
    {
      "cell_type": "code",
      "metadata": {
        "colab": {
          "base_uri": "https://localhost:8080/"
        },
        "id": "b11ae1ad-d150-4797-91f3-70e8151e580d",
        "outputId": "b6c2b320-ff7b-4e86-e694-30eea327a8e8"
      },
      "outputs": [
        {
          "output_type": "stream",
          "name": "stdout",
          "text": [
            "      ca community_area_name  percent_of_housing_crowded  \\\n",
            "0    1.0         Rogers Park                         7.7   \n",
            "1    2.0          West Ridge                         7.8   \n",
            "2    3.0              Uptown                         3.8   \n",
            "3    4.0      Lincoln Square                         3.4   \n",
            "4    5.0        North Center                         0.3   \n",
            "..   ...                 ...                         ...   \n",
            "73  74.0     Mount Greenwood                         1.0   \n",
            "74  75.0         Morgan Park                         0.8   \n",
            "75  76.0              O'Hare                         3.6   \n",
            "76  77.0           Edgewater                         4.1   \n",
            "77   NaN             CHICAGO                         4.7   \n",
            "\n",
            "    percent_households_below_poverty  percent_aged_16_unemployed  \\\n",
            "0                               23.6                         8.7   \n",
            "1                               17.2                         8.8   \n",
            "2                               24.0                         8.9   \n",
            "3                               10.9                         8.2   \n",
            "4                                7.5                         5.2   \n",
            "..                               ...                         ...   \n",
            "73                               3.4                         8.7   \n",
            "74                              13.2                        15.0   \n",
            "75                              15.4                         7.1   \n",
            "76                              18.2                         9.2   \n",
            "77                              19.7                        12.9   \n",
            "\n",
            "    percent_aged_25_without_high_school_diploma  \\\n",
            "0                                          18.2   \n",
            "1                                          20.8   \n",
            "2                                          11.8   \n",
            "3                                          13.4   \n",
            "4                                           4.5   \n",
            "..                                          ...   \n",
            "73                                          4.3   \n",
            "74                                         10.8   \n",
            "75                                         10.9   \n",
            "76                                          9.7   \n",
            "77                                         19.5   \n",
            "\n",
            "    percent_aged_under_18_or_over_64  per_capita_income_  hardship_index  \n",
            "0                               27.5               23939            39.0  \n",
            "1                               38.5               23040            46.0  \n",
            "2                               22.2               35787            20.0  \n",
            "3                               25.5               37524            17.0  \n",
            "4                               26.2               57123             6.0  \n",
            "..                               ...                 ...             ...  \n",
            "73                              36.8               34381            16.0  \n",
            "74                              40.3               27149            30.0  \n",
            "75                              30.3               25828            24.0  \n",
            "76                              23.8               33385            19.0  \n",
            "77                              33.5               28202             NaN  \n",
            "\n",
            "[78 rows x 9 columns]\n"
          ]
        }
      ],
      "source": [
        "import pandas\n",
        "df = pandas.read_csv('https://data.cityofchicago.org/resource/jcxq-k9xf.csv')\n",
        "df.to_sql(\"chicago_socioeconomic_data\", con, if_exists='replace', index=False, method=\"multi\")\n",
        "print(df)"
      ],
      "execution_count": null
    },
    {
      "cell_type": "markdown",
      "metadata": {
        "id": "cdc57ff4-8840-411e-95ef-afc2efcefa8d"
      },
      "source": [
        "##### You can verify that the table creation was successful by making a basic query like:\n"
      ]
    },
    {
      "cell_type": "code",
      "metadata": {
        "colab": {
          "base_uri": "https://localhost:8080/",
          "height": 202
        },
        "id": "f69af504-a28f-4aa4-870b-c47d67c98f05",
        "outputId": "c8c994e9-6ec0-4f34-d5c7-c69a52a274a1"
      },
      "outputs": [
        {
          "output_type": "stream",
          "name": "stdout",
          "text": [
            " * sqlite:///socioeconomic.db\n",
            "Done.\n"
          ]
        },
        {
          "output_type": "execute_result",
          "data": {
            "text/plain": [
              "[(1.0, 'Rogers Park', 7.7, 23.6, 8.7, 18.2, 27.5, 23939, 39.0),\n",
              " (2.0, 'West Ridge', 7.8, 17.2, 8.8, 20.8, 38.5, 23040, 46.0),\n",
              " (3.0, 'Uptown', 3.8, 24.0, 8.9, 11.8, 22.2, 35787, 20.0),\n",
              " (4.0, 'Lincoln Square', 3.4, 10.9, 8.2, 13.4, 25.5, 37524, 17.0),\n",
              " (5.0, 'North Center', 0.3, 7.5, 5.2, 4.5, 26.2, 57123, 6.0)]"
            ],
            "text/html": [
              "<table>\n",
              "    <thead>\n",
              "        <tr>\n",
              "            <th>ca</th>\n",
              "            <th>community_area_name</th>\n",
              "            <th>percent_of_housing_crowded</th>\n",
              "            <th>percent_households_below_poverty</th>\n",
              "            <th>percent_aged_16_unemployed</th>\n",
              "            <th>percent_aged_25_without_high_school_diploma</th>\n",
              "            <th>percent_aged_under_18_or_over_64</th>\n",
              "            <th>per_capita_income_</th>\n",
              "            <th>hardship_index</th>\n",
              "        </tr>\n",
              "    </thead>\n",
              "    <tbody>\n",
              "        <tr>\n",
              "            <td>1.0</td>\n",
              "            <td>Rogers Park</td>\n",
              "            <td>7.7</td>\n",
              "            <td>23.6</td>\n",
              "            <td>8.7</td>\n",
              "            <td>18.2</td>\n",
              "            <td>27.5</td>\n",
              "            <td>23939</td>\n",
              "            <td>39.0</td>\n",
              "        </tr>\n",
              "        <tr>\n",
              "            <td>2.0</td>\n",
              "            <td>West Ridge</td>\n",
              "            <td>7.8</td>\n",
              "            <td>17.2</td>\n",
              "            <td>8.8</td>\n",
              "            <td>20.8</td>\n",
              "            <td>38.5</td>\n",
              "            <td>23040</td>\n",
              "            <td>46.0</td>\n",
              "        </tr>\n",
              "        <tr>\n",
              "            <td>3.0</td>\n",
              "            <td>Uptown</td>\n",
              "            <td>3.8</td>\n",
              "            <td>24.0</td>\n",
              "            <td>8.9</td>\n",
              "            <td>11.8</td>\n",
              "            <td>22.2</td>\n",
              "            <td>35787</td>\n",
              "            <td>20.0</td>\n",
              "        </tr>\n",
              "        <tr>\n",
              "            <td>4.0</td>\n",
              "            <td>Lincoln Square</td>\n",
              "            <td>3.4</td>\n",
              "            <td>10.9</td>\n",
              "            <td>8.2</td>\n",
              "            <td>13.4</td>\n",
              "            <td>25.5</td>\n",
              "            <td>37524</td>\n",
              "            <td>17.0</td>\n",
              "        </tr>\n",
              "        <tr>\n",
              "            <td>5.0</td>\n",
              "            <td>North Center</td>\n",
              "            <td>0.3</td>\n",
              "            <td>7.5</td>\n",
              "            <td>5.2</td>\n",
              "            <td>4.5</td>\n",
              "            <td>26.2</td>\n",
              "            <td>57123</td>\n",
              "            <td>6.0</td>\n",
              "        </tr>\n",
              "    </tbody>\n",
              "</table>"
            ]
          },
          "metadata": {},
          "execution_count": 5
        }
      ],
      "source": [
        "%sql SELECT * FROM chicago_socioeconomic_data limit 5;"
      ],
      "execution_count": null
    },
    {
      "cell_type": "markdown",
      "metadata": {
        "id": "65a2029f-b99b-4c11-9f3a-ed8d577ffb83"
      },
      "source": [
        "## Problems\n",
        "\n",
        "### Problem 1\n",
        "\n",
        "##### How many rows are in the dataset?\n"
      ]
    },
    {
      "cell_type": "code",
      "metadata": {
        "colab": {
          "base_uri": "https://localhost:8080/",
          "height": 96
        },
        "id": "268c492c-3030-4cfc-93af-5d1f9fb91dad",
        "outputId": "7a8e93b2-d959-43f6-e3c6-9bcef9a286ed"
      },
      "outputs": [
        {
          "output_type": "stream",
          "name": "stdout",
          "text": [
            " * sqlite:///socioeconomic.db\n",
            "Done.\n"
          ]
        },
        {
          "output_type": "execute_result",
          "data": {
            "text/plain": [
              "[(78,)]"
            ],
            "text/html": [
              "<table>\n",
              "    <thead>\n",
              "        <tr>\n",
              "            <th>COUNT(*)</th>\n",
              "        </tr>\n",
              "    </thead>\n",
              "    <tbody>\n",
              "        <tr>\n",
              "            <td>78</td>\n",
              "        </tr>\n",
              "    </tbody>\n",
              "</table>"
            ]
          },
          "metadata": {},
          "execution_count": 6
        }
      ],
      "source": [
        "%sql SELECT COUNT(*) FROM chicago_socioeconomic_data;"
      ],
      "execution_count": null
    },
    {
      "cell_type": "markdown",
      "metadata": {
        "id": "ea5d4417-e2fa-4589-88bc-d3e2e967c73a"
      },
      "source": [
        "<details><summary>Click here for the solution</summary>\n",
        "\n",
        "```python\n",
        "%sql SELECT COUNT(*) FROM chicago_socioeconomic_data;\n",
        "\n",
        "Correct answer: 78\n",
        "```\n",
        "\n",
        "</details>\n"
      ]
    },
    {
      "cell_type": "markdown",
      "metadata": {
        "id": "8f0e9fdb-77d8-4d08-9ead-1c40f420ec6e"
      },
      "source": [
        "### Problem 2\n",
        "\n",
        "##### How many community areas in Chicago have a hardship index greater than 50.0?\n"
      ]
    },
    {
      "cell_type": "code",
      "metadata": {
        "colab": {
          "base_uri": "https://localhost:8080/",
          "height": 96
        },
        "id": "04a52ef3-8843-4e86-b0da-cd58c8541625",
        "outputId": "e538f1a7-605f-43ec-b2f5-c41a2d073e23"
      },
      "outputs": [
        {
          "output_type": "stream",
          "name": "stdout",
          "text": [
            " * sqlite:///socioeconomic.db\n",
            "Done.\n"
          ]
        },
        {
          "output_type": "execute_result",
          "data": {
            "text/plain": [
              "[(38,)]"
            ],
            "text/html": [
              "<table>\n",
              "    <thead>\n",
              "        <tr>\n",
              "            <th>COUNT(*)</th>\n",
              "        </tr>\n",
              "    </thead>\n",
              "    <tbody>\n",
              "        <tr>\n",
              "            <td>38</td>\n",
              "        </tr>\n",
              "    </tbody>\n",
              "</table>"
            ]
          },
          "metadata": {},
          "execution_count": 7
        }
      ],
      "source": [
        "%sql SELECT COUNT(*) FROM chicago_socioeconomic_data where hardship_index > 50;"
      ],
      "execution_count": null
    },
    {
      "cell_type": "markdown",
      "metadata": {
        "id": "3c91beed-37e6-4b02-babd-1d2ca38db9be"
      },
      "source": [
        "<details><summary>Click here for the solution</summary>\n",
        "\n",
        "```python\n",
        "%sql SELECT COUNT(*) FROM chicago_socioeconomic_data WHERE hardship_index > 50.0;\n",
        "\n",
        "Correct answer: 38\n",
        "```\n",
        "\n",
        "</details>\n"
      ]
    },
    {
      "cell_type": "markdown",
      "source": [],
      "metadata": {
        "id": "sovwwUhCePls"
      }
    },
    {
      "cell_type": "markdown",
      "metadata": {
        "id": "5efe407f-28f8-4c9a-8659-9b9bc1b75b3f"
      },
      "source": [
        "### Problem 3\n",
        "\n",
        "##### What is the maximum value of hardship index in this dataset?\n"
      ]
    },
    {
      "cell_type": "code",
      "metadata": {
        "colab": {
          "base_uri": "https://localhost:8080/",
          "height": 96
        },
        "id": "da65350d-0672-4b76-bc2a-7d8b2d2a8949",
        "outputId": "20679a55-ae60-4fba-8e50-d61eaefb7f52"
      },
      "outputs": [
        {
          "output_type": "stream",
          "name": "stdout",
          "text": [
            " * sqlite:///socioeconomic.db\n",
            "Done.\n"
          ]
        },
        {
          "output_type": "execute_result",
          "data": {
            "text/plain": [
              "[(98.0,)]"
            ],
            "text/html": [
              "<table>\n",
              "    <thead>\n",
              "        <tr>\n",
              "            <th>MAX(hardship_index)</th>\n",
              "        </tr>\n",
              "    </thead>\n",
              "    <tbody>\n",
              "        <tr>\n",
              "            <td>98.0</td>\n",
              "        </tr>\n",
              "    </tbody>\n",
              "</table>"
            ]
          },
          "metadata": {},
          "execution_count": 8
        }
      ],
      "source": [
        "%sql SELECT MAX(hardship_index) FROM chicago_socioeconomic_data ;\n"
      ],
      "execution_count": null
    },
    {
      "cell_type": "markdown",
      "metadata": {
        "id": "5281c343-026c-48c4-bbef-3e5bb4e8becf"
      },
      "source": [
        "<details><summary>Click here for the solution</summary>\n",
        "\n",
        "```python\n",
        "%sql SELECT MAX(hardship_index) FROM chicago_socioeconomic_data;\n",
        "\n",
        "Correct answer: 98.0\n",
        "```\n",
        "\n",
        "</details>\n"
      ]
    },
    {
      "cell_type": "markdown",
      "metadata": {
        "id": "ebc5f93f-7074-4268-aa00-2240d5fc46ad"
      },
      "source": [
        "### Problem 4\n",
        "\n",
        "##### Which community area which has the highest hardship index?\n"
      ]
    },
    {
      "cell_type": "code",
      "metadata": {
        "colab": {
          "base_uri": "https://localhost:8080/",
          "height": 96
        },
        "id": "305fe725-bd6b-4119-9e24-6a583c8bea5e",
        "outputId": "dcf24ad5-dfd6-4e4b-ec41-142d65c47449"
      },
      "outputs": [
        {
          "output_type": "stream",
          "name": "stdout",
          "text": [
            " * sqlite:///socioeconomic.db\n",
            "Done.\n"
          ]
        },
        {
          "output_type": "execute_result",
          "data": {
            "text/plain": [
              "[('Riverdale',)]"
            ],
            "text/html": [
              "<table>\n",
              "    <thead>\n",
              "        <tr>\n",
              "            <th>community_area_name</th>\n",
              "        </tr>\n",
              "    </thead>\n",
              "    <tbody>\n",
              "        <tr>\n",
              "            <td>Riverdale</td>\n",
              "        </tr>\n",
              "    </tbody>\n",
              "</table>"
            ]
          },
          "metadata": {},
          "execution_count": 9
        }
      ],
      "source": [
        "%sql SELECT community_area_name FROM chicago_socioeconomic_data WHERE hardship_index = (SELECT MAX(hardship_index) FROM chicago_socioeconomic_data);"
      ],
      "execution_count": null
    },
    {
      "cell_type": "markdown",
      "metadata": {
        "id": "22e8e5d1-e2ea-4ad6-bad3-318fa0b13bc5"
      },
      "source": [
        "<details><summary>Click here for the solution</summary>\n",
        "\n",
        "```python\n",
        "#We can use the result of the last query to as an input to this query:\n",
        "%sql SELECT community_area_name FROM chicago_socioeconomic_data where hardship_index=98.0;\n",
        "\n",
        "#or another option:\n",
        "%sql SELECT community_area_name FROM chicago_socioeconomic_data ORDER BY hardship_index DESC LIMIT 1;\n",
        "\n",
        "#or you can use a sub-query to determine the max hardship index:\n",
        "%sql select community_area_name from chicago_socioeconomic_data where hardship_index = ( select max(hardship_index) from chicago_socioeconomic_data );\n",
        "\n",
        "Correct answer: 'Riverdale'\n",
        "    \n",
        "```\n",
        "\n",
        "</details>\n"
      ]
    },
    {
      "cell_type": "markdown",
      "metadata": {
        "id": "dbee12b1-ad72-42e2-b7ff-b8bd6325a4c7"
      },
      "source": [
        "### Problem 5\n",
        "\n",
        "##### Which Chicago community areas have per-capita incomes greater than $60,000?\n"
      ]
    },
    {
      "cell_type": "code",
      "metadata": {
        "colab": {
          "base_uri": "https://localhost:8080/"
        },
        "id": "acb0598f-0c0c-4308-aad0-e1bc30d7ddb3",
        "outputId": "61816eb7-f29f-4d3c-ab8e-c3d9b7d84678"
      },
      "outputs": [
        {
          "output_type": "stream",
          "name": "stdout",
          "text": [
            " * sqlite:///socioeconomic.db\n",
            "Done.\n"
          ]
        },
        {
          "output_type": "execute_result",
          "data": {
            "text/plain": [
              "[('Lake View',), ('Lincoln Park',), ('Near North Side',), ('Loop',)]"
            ],
            "text/html": [
              "<table>\n",
              "    <thead>\n",
              "        <tr>\n",
              "            <th>community_area_name</th>\n",
              "        </tr>\n",
              "    </thead>\n",
              "    <tbody>\n",
              "        <tr>\n",
              "            <td>Lake View</td>\n",
              "        </tr>\n",
              "        <tr>\n",
              "            <td>Lincoln Park</td>\n",
              "        </tr>\n",
              "        <tr>\n",
              "            <td>Near North Side</td>\n",
              "        </tr>\n",
              "        <tr>\n",
              "            <td>Loop</td>\n",
              "        </tr>\n",
              "    </tbody>\n",
              "</table>"
            ]
          },
          "metadata": {},
          "execution_count": 10
        }
      ],
      "source": [
        "%sql SELECT community_area_name FROM chicago_socioeconomic_data WHERE per_capita_income_\t > 60000\n"
      ],
      "execution_count": null
    },
    {
      "cell_type": "markdown",
      "metadata": {
        "id": "1ff66b49-ebb0-43b0-80b3-5ed3830a0c1e"
      },
      "source": [
        "<details><summary>Click here for the solution</summary>\n",
        "\n",
        "```python\n",
        "%sql SELECT community_area_name FROM chicago_socioeconomic_data WHERE per_capita_income_ > 60000;\n",
        "\n",
        "Correct answer:Lake View,Lincoln Park, Near North Side, Loop\n",
        "    \n",
        "```\n",
        "\n",
        "</details>\n"
      ]
    },
    {
      "cell_type": "markdown",
      "metadata": {
        "id": "9a84ad2c-cf4b-482f-ba35-d1f451c0c21a"
      },
      "source": [
        "### Problem 6\n",
        "\n",
        "##### Create a scatter plot using the variables `per_capita_income_` and `hardship_index`. Explain the correlation between the two variables.\n"
      ]
    },
    {
      "cell_type": "code",
      "metadata": {
        "colab": {
          "base_uri": "https://localhost:8080/",
          "height": 1000
        },
        "id": "3fd22caa-130f-4b42-b2e3-bd4cec259aa8",
        "outputId": "64a285f9-3051-4dfc-fa1b-d1f371a493f3"
      },
      "outputs": [
        {
          "output_type": "display_data",
          "data": {
            "text/plain": [
              "<Figure size 800x600 with 1 Axes>"
            ],
            "image/png": "[encoded data removed]"
          },
          "metadata": {}
        },
        {
          "output_type": "stream",
          "name": "stdout",
          "text": [
            " * sqlite:///socioeconomic.db\n",
            "Done.\n"
          ]
        },
        {
          "output_type": "display_data",
          "data": {
            "text/plain": [
              "<Figure size 600x600 with 3 Axes>"
            ],
            "image/png": "[encoded data removed]"
          },
          "metadata": {}
        }
      ],
      "source": [
        "\n",
        "import pandas as pd\n",
        "import matplotlib.pyplot as plt\n",
        "\n",
        "# The data is in a DataFrame named 'df'\n",
        "#print(df)\n",
        "# Select the relevant columns\n",
        "data = df[['per_capita_income_', 'hardship_index']]\n",
        "\n",
        "# Create the scatter plot\n",
        "plt.figure(figsize=(8, 6))  # Adjust figure size as needed\n",
        "plt.scatter(data['per_capita_income_'], data['hardship_index'], alpha=0.7)  # Adjust alpha for transparency\n",
        "\n",
        "# Add labels and title\n",
        "plt.xlabel('Per Capita Income')\n",
        "plt.ylabel('Hardship Index')\n",
        "plt.title('Per Capita Income vs. Hardship Index')\n",
        "\n",
        "# Add gridlines for better readability\n",
        "plt.grid(True)\n",
        "\n",
        "# Show the plot\n",
        "plt.show()\n",
        "import seaborn as sns\n",
        "\n",
        "income_vs_hardship = %sql SELECT per_capita_income_, hardship_index FROM chicago_socioeconomic_data;\n",
        "plot = sns.jointplot(x='per_capita_income_',y='hardship_index', data=income_vs_hardship.DataFrame())\n",
        "\n"
      ],
      "execution_count": null
    },
    {
      "cell_type": "markdown",
      "metadata": {
        "id": "3845d07f-8e38-4598-80ea-bcbb207d9506"
      },
      "source": [
        "<details><summary>Click here for the solution</summary>\n",
        "\n",
        "```python\n",
        "# if the import command gives ModuleNotFoundError: No module named 'seaborn'\n",
        "# then uncomment the following line i.e. delete the # to install the seaborn package\n",
        "# !pip install seaborn\n",
        "\n",
        "import matplotlib.pyplot as plt\n",
        "%matplotlib inline\n",
        "import seaborn as sns\n",
        "\n",
        "income_vs_hardship = %sql SELECT per_capita_income_, hardship_index FROM chicago_socioeconomic_data;\n",
        "plot = sns.jointplot(x='per_capita_income_',y='hardship_index', data=income_vs_hardship.DataFrame())\n",
        "\n",
        "Correct answer:You can see that as Per Capita Income rises as the Hardship Index decreases. We see that the points on the scatter plot are somewhat closer to a straight line in the negative direction, so we have a negative correlation between the two variables.\n",
        "    \n",
        "```\n",
        "\n",
        "</details>\n"
      ]
    },
    {
      "cell_type": "markdown",
      "metadata": {
        "id": "cc947e2b-2d26-4264-8bd4-ba0c614f9bab"
      },
      "source": [
        "### Conclusion\n",
        "\n",
        "##### Now that you know how to do basic exploratory data analysis using SQL and python visualization tools, you can further explore this dataset to see how the variable `per_capita_income_` is related to `percent_households_below_poverty` and `percent_aged_16_unemployed`. Try to create interesting visualizations!\n"
      ]
    },
    {
      "cell_type": "markdown",
      "metadata": {
        "id": "39167d06-9d65-4184-bc35-56dae1472f62"
      },
      "source": [
        "## Summary\n",
        "\n",
        "##### In this lab you learned how to store a real world data set from the internet in a database, gain insights into data using SQL queries. You also visualized a portion of the data in the database to see what story it tells.\n"
      ]
    },
    {
      "cell_type": "markdown",
      "metadata": {
        "id": "11c72961-b630-490b-ba5c-8079c712d4fa"
      },
      "source": [
        "## Author\n",
        "\n",
        "<a href=\"https://www.linkedin.com/in/ravahuja/?utm_medium=Exinfluencer&utm_source=Exinfluencer&utm_content=000026UJ&utm_term=10006555&utm_id=NA-SkillsNetwork-Channel-SkillsNetworkCoursesIBMDeveloperSkillsNetworkDB0201ENSkillsNetwork20127838-2021-01-01\" target=\"_blank\">Rav Ahuja</a>\n",
        "\n",
        "## Change Log\n",
        "\n",
        "| Date (YYYY-MM-DD) | Version | Changed By    | Change Description                 |\n",
        "| ----------------- | ------- | ------------- | ---------------------------------- |\n",
        "| 2022-03-04        | 2.3     | Lakshmi Holla     | Made changes in markdown cells |\n",
        "| 2021-07-09        | 2.2     | Malika        | Updated connection string          |\n",
        "| 2021-05-06        | 2.1     | Malika Singla | Added libraries                    |\n",
        "| 2020-08-28        | 2.0     | Lavanya       | Moved lab to course repo in GitLab |\n",
        "\n",
        "<hr>\n",
        "\n",
        "## <h3 align=\"center\"> © IBM Corporation 2020. All rights reserved. <h3/>\n"
      ]
    }
  ],
  "metadata": {
    "kernelspec": {
      "display_name": "Python",
      "language": "python",
      "name": "conda-env-python-py"
    },
    "language_info": {
      "name": "python",
      "version": "3.7.12",
      "mimetype": "text/x-python",
      "codemirror_mode": {
        "name": "ipython",
        "version": 3
      },
      "pygments_lexer": "ipython3",
      "nbconvert_exporter": "python",
      "file_extension": ".py"
    },
    "prev_pub_hash": "45c1670d1cdce4fa5be045be67aee5b770578a5e7786998fb2b8806abcfc757e",
    "colab": {
      "provenance": []
    }
  },
  "nbformat": 4,
  "nbformat_minor": 0
}